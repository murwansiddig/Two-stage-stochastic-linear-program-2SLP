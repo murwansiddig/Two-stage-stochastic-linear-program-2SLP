{
 "cells": [
  {
   "cell_type": "code",
   "execution_count": null,
   "metadata": {},
   "outputs": [],
   "source": [
    "import gurobipy as gp;\n",
    "from gurobipy import GRB;"
   ]
  },
  {
   "cell_type": "code",
   "execution_count": null,
   "metadata": {},
   "outputs": [],
   "source": [
    "# Input data\n",
    "Yield=[[2.5, 3, 20],\n",
    "       [3, 3.6, 24],\n",
    "       [2, 2.4, 16]];\n",
    "Cost=[150, 230, 260];\n",
    "Price = [170, 150, 36];\n",
    "OverPrice = 10; # Only for beans\n",
    "Oversize = 6000; # Only for beans\n",
    "ExtraPrice = [238,210]; # Only for the first two crops\n",
    "Demand = [200,240];\n",
    "Land = 500;\n",
    "numScens = len(Yield);\n",
    "numCrops = len(Cost);\n",
    "\n",
    "meanYield = [0.0]*numScens; # Careful - this technique doesn't generalize to multidimensional arrays or lists of lists\n",
    "\n",
    "for j in range(numCrops):\n",
    "    for k in range(numScens):\n",
    "        meanYield[j] = meanYield[j]+Yield[k][j];\n",
    "    meanYield[j] = meanYield[j]*1.0/numScens;\n"
   ]
  },
  {
   "cell_type": "code",
   "execution_count": null,
   "metadata": {},
   "outputs": [],
   "source": [
    "m = gp.Model(\"farmer\");\n",
    "# Set the sense for the objective: we'd like to maximize\n",
    "m.modelSense = GRB.MAXIMIZE; # this is to maximize the total profit"
   ]
  },
  {
   "cell_type": "code",
   "execution_count": null,
   "metadata": {},
   "outputs": [],
   "source": [
    "# acres of wheat, corn, beans planted\n",
    "x = {};\n",
    "for i in range(numCrops):\n",
    "   x[i] = m.addVar(vtype=GRB.CONTINUOUS, lb = 0, ub = GRB.INFINITY, obj=-Cost[i]);\n",
    "\n",
    "# tons of wheat, corn, beans sold at regular price\n",
    "w = {};\n",
    "for i in range(numCrops):\n",
    "   w[i] = m.addVar(vtype=GRB.CONTINUOUS, lb = 0, ub = GRB.INFINITY, obj=Price[i]);\n",
    "\n",
    "# tons of beans sold at extra price\n",
    "e = m.addVar(vtype=GRB.CONTINUOUS, lb = 0, ub = GRB.INFINITY, obj=OverPrice);\n",
    "\n",
    "# tons of wheat corn purchased from super farmer\n",
    "y = {};\n",
    "for i in range(numCrops-1):\n",
    "    y[i] = m.addVar(vtype=GRB.CONTINUOUS, lb = 0, ub = GRB.INFINITY, obj=-ExtraPrice[i]);\n"
   ]
  },
  {
   "cell_type": "code",
   "execution_count": null,
   "metadata": {},
   "outputs": [],
   "source": [
    "# Add constraints\n",
    "m.addConstr(sum(x[i] for i in range(numCrops)) <= Land);\n",
    "m.addConstr(meanYield[0]*x[0]+y[0]-w[0] == Demand[0]);\n",
    "m.addConstr(meanYield[1]*x[1]+y[1]-w[1] == Demand[1]);\n",
    "m.addConstr(meanYield[2]*x[2]-w[2]-e == 0);\n",
    "m.addConstr(w[2]<=Oversize);\n",
    "# Finish adding all variables and constraints, do an update to make sure things are up to date.\n",
    "m.update();\n",
    "m.setParam(\"OutputFlag\", 0); # disable output information unless you want to take a look at the solution process"
   ]
  },
  {
   "cell_type": "code",
   "execution_count": null,
   "metadata": {},
   "outputs": [],
   "source": [
    "m.optimize();\n",
    "if m.status == GRB.OPTIMAL:\n",
    "    print('\\nProfit: %g' % m.objVal);\n",
    "    print('\\nPlant:');\n",
    "    plant_x_MVP = m.getAttr('x', x);\n",
    "    for i in range(numCrops):\n",
    "        if x[i].x > 0.0001:\n",
    "            print('%s: %g' % (i, plant_x_MVP[i]));\n",
    "else:\n",
    "    print('No solution');"
   ]
  },
  {
   "cell_type": "markdown",
   "metadata": {},
   "source": [
    "We now solve the two-stage SP model, create multiple copies of second-stage variables, one copy per scenario."
   ]
  },
  {
   "cell_type": "code",
   "execution_count": null,
   "metadata": {},
   "outputs": [],
   "source": [
    "m_2SP = gp.Model(\"farmer-two-stage-SP\");\n",
    "m_2SP.modelSense = GRB.MAXIMIZE; # this is to maximize the total expected profit\n",
    "# acres of wheat, corn, beans planted\n",
    "x = {};\n",
    "for i in range(numCrops):\n",
    "   x[i] = m_2SP.addVar(vtype=GRB.CONTINUOUS, lb = 0, ub = GRB.INFINITY, obj=-Cost[i]);\n",
    "\n",
    "# tons of wheat, corn, beans sold at regular price\n",
    "ww = {};\n",
    "for k in range(numScens):\n",
    "    ww[k] = {};\n",
    "    for i in range(numCrops):\n",
    "        ww[k][i] = m_2SP.addVar(vtype=GRB.CONTINUOUS, lb = 0, ub = GRB.INFINITY, obj=1/numScens*Price[i]);\n",
    "\n",
    "# tons of beans sold at extra price\n",
    "ee = {};\n",
    "for k in range(numScens):\n",
    "    ee[k] = m_2SP.addVar(vtype=GRB.CONTINUOUS, lb = 0, ub = GRB.INFINITY, obj=1/numScens*OverPrice);\n",
    "\n",
    "# tons of wheat corn purchased from super farmer\n",
    "yy = {};\n",
    "for k in range(numScens):\n",
    "    yy[k] = {};\n",
    "    for i in range(numCrops-1):\n",
    "        yy[k][i] = m_2SP.addVar(vtype=GRB.CONTINUOUS, lb = 0, ub = GRB.INFINITY, obj=-1/numScens*ExtraPrice[i]);\n",
    "\n",
    "\n",
    "# First-stage constraint\n",
    "m_2SP.addConstr(sum(x[i] for i in range(numCrops)) <= Land);\n",
    "# Second-stage constraint\n",
    "for k in range(numScens):\n",
    "    m_2SP.addConstr(Yield[k][0]*x[0]+yy[k][0]-ww[k][0] == Demand[0]);\n",
    "    m_2SP.addConstr(Yield[k][1]*x[1]+yy[k][1]-ww[k][1] == Demand[1]);\n",
    "    m_2SP.addConstr(Yield[k][2]*x[2]-ww[k][2]-ee[k] == 0);\n",
    "    m_2SP.addConstr(ww[k][2]<=Oversize);\n",
    "    \n",
    "m_2SP.update();\n",
    "m_2SP.setParam(\"OutputFlag\", 0); # disable output information unless you want to take a look at the solution process"
   ]
  },
  {
   "cell_type": "code",
   "execution_count": null,
   "metadata": {},
   "outputs": [],
   "source": [
    "m_2SP.optimize();\n",
    "if m_2SP.status == GRB.OPTIMAL:\n",
    "    print('\\nExpected Profit: %g' % m_2SP.objVal);\n",
    "    print('\\nPlant:');\n",
    "    plant_x_SP = m_2SP.getAttr('x', x);\n",
    "    for i in range(numCrops):\n",
    "        if x[i].x > 0.0001:\n",
    "            print('%s: %g' % (i, plant_x_SP[i]));\n",
    "else:\n",
    "    print('No solution');\n",
    "    \n",
    "SPObjVal = m_2SP.objVal;"
   ]
  },
  {
   "cell_type": "markdown",
   "metadata": {},
   "source": [
    "We next calculate EVPI. To do so, solve all the scenario-based problems separately, and then take the average. Then compare the average with SP objective value."
   ]
  },
  {
   "cell_type": "code",
   "execution_count": null,
   "metadata": {},
   "outputs": [],
   "source": [
    "EVPIScenObjVal = [0.0]*numScens;\n",
    "m_scen = {};\n",
    "x = {};\n",
    "w = {};\n",
    "e = {};\n",
    "y = {};\n",
    "\n",
    "for k in range(numScens):\n",
    "    m_scen[k] = gp.Model(\"farmer-2nd-prob\"+str(k));\n",
    "    m_scen[k].modelSense = GRB.MAXIMIZE; # this is to maximize the total expected profit\n",
    "    # acres of wheat, corn, beans planted\n",
    "    x[k] = {};\n",
    "    for i in range(numCrops):\n",
    "       x[k][i] = m_scen[k].addVar(vtype=GRB.CONTINUOUS, lb = 0, ub = GRB.INFINITY, obj=-Cost[i]);\n",
    "\n",
    "    # tons of wheat, corn, beans sold at regular price\n",
    "    w[k] = {};\n",
    "    for i in range(numCrops):\n",
    "        w[k][i] = m_scen[k].addVar(vtype=GRB.CONTINUOUS, lb = 0, ub = GRB.INFINITY, obj=Price[i]);\n",
    "\n",
    "    # tons of beans sold at extra price\n",
    "    e[k] = m_scen[k].addVar(vtype=GRB.CONTINUOUS, lb = 0, ub = GRB.INFINITY, obj=OverPrice);\n",
    "\n",
    "    # tons of wheat corn purchased from super farmer\n",
    "    y[k] = {};\n",
    "    for i in range(numCrops-1):\n",
    "        y[k][i] = m_scen[k].addVar(vtype=GRB.CONTINUOUS, lb = 0, ub = GRB.INFINITY, obj=-ExtraPrice[i]);\n",
    "\n",
    "    m_scen[k].addConstr(sum(x[k][i] for i in range(numCrops)) <= Land);\n",
    "    m_scen[k].addConstr(Yield[k][0]*x[k][0]+y[k][0]-w[k][0] == Demand[0]);\n",
    "    m_scen[k].addConstr(Yield[k][1]*x[k][1]+y[k][1]-w[k][1] == Demand[1]);\n",
    "    m_scen[k].addConstr(Yield[k][2]*x[k][2]-w[k][2]-e[k] == 0);\n",
    "    m_scen[k].addConstr(w[k][2]<=Oversize);\n",
    "    \n",
    "    m_scen[k].update();\n",
    "    m_scen[k].setParam(\"OutputFlag\", 0); # disable output information unless you want to take a look at the solution process\n",
    "    m_scen[k].optimize();\n",
    "    if m_scen[k].status == GRB.OPTIMAL:\n",
    "        EVPIScenObjVal[k] = m_scen[k].objVal;\n",
    "    else:\n",
    "        print('No solution');\n",
    "        exit(0);\n",
    "\n",
    "PIobjVal = sum(EVPIScenObjVal)*1.0/numScens;\n",
    "print(\"EVPI = \",PIobjVal-SPObjVal);"
   ]
  },
  {
   "cell_type": "markdown",
   "metadata": {},
   "source": [
    "We next compute VSS. To do so, we get the first-stage solution from the MVP, and evaluate it using the objective function of the SP."
   ]
  },
  {
   "cell_type": "code",
   "execution_count": null,
   "metadata": {},
   "outputs": [],
   "source": [
    "# remember that the first-stage solution from the MVP is recorded as plant_x_MVP (defined above)\n",
    "MVPScenObjVal = [0.0]*numScens;\n",
    "for k in range(numScens):\n",
    "    for i in range(numCrops):\n",
    "        m_scen[k].addConstr(x[k][i] == plant_x_MVP[i]);\n",
    "    m_scen[k].update();\n",
    "    m_scen[k].optimize();\n",
    "    if m_scen[k].status == GRB.OPTIMAL:\n",
    "        MVPScenObjVal[k] = m_scen[k].objVal;\n",
    "    else:\n",
    "        print('No solution');\n",
    "        exit(0);\n",
    "        \n",
    "MVPObjVal = sum(MVPScenObjVal)*1.0/numScens;\n",
    "print(\"VSS = \", SPObjVal-MVPObjVal);"
   ]
  },
  {
   "cell_type": "code",
   "execution_count": null,
   "metadata": {},
   "outputs": [],
   "source": []
  }
 ],
 "metadata": {
  "kernelspec": {
   "display_name": "Python 3",
   "language": "python",
   "name": "python3"
  },
  "language_info": {
   "codemirror_mode": {
    "name": "ipython",
    "version": 3
   },
   "file_extension": ".py",
   "mimetype": "text/x-python",
   "name": "python",
   "nbconvert_exporter": "python",
   "pygments_lexer": "ipython3",
   "version": "3.8.5"
  }
 },
 "nbformat": 4,
 "nbformat_minor": 2
}
